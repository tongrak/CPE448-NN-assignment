{
 "cells": [
  {
   "attachments": {},
   "cell_type": "markdown",
   "metadata": {},
   "source": [
    "# Init"
   ]
  },
  {
   "cell_type": "code",
   "execution_count": null,
   "metadata": {},
   "outputs": [],
   "source": [
    "# Variable\n",
    "\n",
    "eta = float;\n",
    "\n",
    "xlist = list;\n",
    "dList = list;\n",
    "\n",
    "delWMatrix = list;\n",
    "wMatrix = list;\n",
    "vMatrix = list;\n",
    "yMatrix = list;\n",
    "sigmaMatrix = list;\n",
    "nodeIndexMatrix = list;"
   ]
  },
  {
   "attachments": {},
   "cell_type": "markdown",
   "metadata": {},
   "source": [
    "## Functions"
   ]
  },
  {
   "attachments": {},
   "cell_type": "markdown",
   "metadata": {},
   "source": [
    "### Calculation Function"
   ]
  },
  {
   "cell_type": "code",
   "execution_count": null,
   "metadata": {},
   "outputs": [],
   "source": [
    "def eFunc(layerNum:int,nodeNum:int):\n",
    "    pass;\n",
    "\n",
    "def EFunc(nodeNum:int):\n",
    "    pass;\n",
    "\n",
    "def EavFunc():\n",
    "    pass;\n",
    "\n",
    "def vFunc(layerNum:int,nodeNum:int):\n",
    "    pass;\n",
    "\n",
    "def yFunc(layerNum:int,nodeNum:int):\n",
    "    pass;\n",
    "\n",
    "def activateFunc(input:int):\n",
    "    pass;\n",
    "\n",
    "def activatePrimeFunc(input:int):\n",
    "    pass;\n",
    "\n",
    "def sigmaFunc(layerNum:int,nodeNum:int):\n",
    "    pass;\n",
    "\n"
   ]
  },
  {
   "attachments": {},
   "cell_type": "markdown",
   "metadata": {},
   "source": [
    "### Auxilary Function"
   ]
  },
  {
   "cell_type": "code",
   "execution_count": null,
   "metadata": {},
   "outputs": [],
   "source": [
    "def initContainer(hlCount:int):\n",
    "    pass;\n",
    "\n",
    "def getRandomWList():\n",
    "    pass;\n",
    "\n",
    "def loadXList(index:int):\n",
    "    pass;\n",
    "\n",
    "def loadDList(index:int):\n",
    "    pass;"
   ]
  },
  {
   "attachments": {},
   "cell_type": "markdown",
   "metadata": {},
   "source": [
    "# Training Ground"
   ]
  },
  {
   "attachments": {},
   "cell_type": "markdown",
   "metadata": {},
   "source": [
    "## Training Function"
   ]
  },
  {
   "cell_type": "code",
   "execution_count": null,
   "metadata": {},
   "outputs": [],
   "source": [
    "def getAllE():\n",
    "    pass;\n",
    "\n",
    "def backPropergate():\n",
    "    pass;"
   ]
  },
  {
   "attachments": {},
   "cell_type": "markdown",
   "metadata": {},
   "source": [
    "## Execution"
   ]
  },
  {
   "cell_type": "code",
   "execution_count": null,
   "metadata": {},
   "outputs": [],
   "source": [
    "# input attribute value\n",
    "\n",
    "# calculate hidden layer one\n",
    "\n",
    "# calculate final layer\n",
    "\n",
    "# keep set of results "
   ]
  },
  {
   "attachments": {},
   "cell_type": "markdown",
   "metadata": {},
   "source": [
    "# Evaluation"
   ]
  },
  {
   "cell_type": "code",
   "execution_count": 1,
   "metadata": {},
   "outputs": [
    {
     "name": "stdout",
     "output_type": "stream",
     "text": [
      "[1, 2, 3, 10, 20, 30]\n"
     ]
    }
   ],
   "source": [
    "# X = [1,2,3]\n",
    "# Y = [10,20,30]\n",
    "# Z = X + Y \n",
    "# print(Z)"
   ]
  }
 ],
 "metadata": {
  "kernelspec": {
   "display_name": "Python 3",
   "language": "python",
   "name": "python3"
  },
  "language_info": {
   "codemirror_mode": {
    "name": "ipython",
    "version": 3
   },
   "file_extension": ".py",
   "mimetype": "text/x-python",
   "name": "python",
   "nbconvert_exporter": "python",
   "pygments_lexer": "ipython3",
   "version": "3.10.2"
  },
  "orig_nbformat": 4,
  "vscode": {
   "interpreter": {
    "hash": "f5d4d8f8c396911fa7ea230123ef05aeb4e9f2b4fb5da5dcce73e71fee68065d"
   }
  }
 },
 "nbformat": 4,
 "nbformat_minor": 2
}
