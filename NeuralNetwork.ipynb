{
 "cells": [
  {
   "attachments": {},
   "cell_type": "markdown",
   "metadata": {},
   "source": [
    "# Init"
   ]
  },
  {
   "cell_type": "code",
   "execution_count": 296,
   "metadata": {},
   "outputs": [],
   "source": [
    "#import\n",
    "import numpy as np \n",
    "import numpy.random as npr\n",
    "\n",
    "# Variable\n",
    "eta = 0.9;\n",
    "\n",
    "xlist = [];\n",
    "dList = [];\n",
    "\n",
    "eList = []\n",
    "biasList = [];\n",
    "wMatrix = [];\n",
    "vMatrix = []\n",
    "yMatrix = [];\n",
    "sigmaMatrix = [];\n",
    "nodeIndexMatrix = [];"
   ]
  },
  {
   "attachments": {},
   "cell_type": "markdown",
   "metadata": {},
   "source": [
    "## Functions"
   ]
  },
  {
   "attachments": {},
   "cell_type": "markdown",
   "metadata": {},
   "source": [
    "### Auxilary Function"
   ]
  },
  {
   "cell_type": "code",
   "execution_count": 297,
   "metadata": {},
   "outputs": [],
   "source": [
    "def getNodeLayer(nodeNum:int):\n",
    "    result = 0;\n",
    "    for layer in nodeIndexMatrix:\n",
    "        if nodeNum in layer: return result\n",
    "        result += 1\n",
    "    raise RuntimeError(\"no node \" + nodeNum + \"existed in nodeIdexMatrix\");\n",
    "\n",
    "def getNodeLayerNIndex(nodeNum:int):\n",
    "    nodeLayer = getNodeLayer(nodeNum)\n",
    "    nodeIndex = nodeIndexMatrix[nodeLayer].index(nodeNum)\n",
    "    return nodeLayer, nodeIndex"
   ]
  },
  {
   "attachments": {},
   "cell_type": "markdown",
   "metadata": {},
   "source": [
    "### Calculation Function"
   ]
  },
  {
   "cell_type": "code",
   "execution_count": 298,
   "metadata": {},
   "outputs": [],
   "source": [
    "def vFunc(nodeNum:int):\n",
    "    nodeLayer, nodeIndex = getNodeLayerNIndex(nodeNum);\n",
    "    if nodeLayer == 0:\n",
    "        return 0;\n",
    "    else:\n",
    "        pastIndexes = nodeIndexMatrix[nodeLayer-1];\n",
    "        pastWs = list(map(lambda x: wMatrix[x][nodeIndex], pastIndexes))\n",
    "        pastYs = yMatrix[nodeLayer-1]\n",
    "        vlist = list(map(lambda x,y: x*y, pastYs,pastWs))\n",
    "        bias = biasList[nodeNum];\n",
    "        v = round(sum(vlist)+bias,3);\n",
    "        return v;\n",
    "\n",
    "\n",
    "def simgFunc(input:int):\n",
    "    return 1/(1 + np.exp(-input));\n",
    "\n",
    "def simgPrimeFunc(input:int):\n",
    "    return simgFunc(input)*(1-simgFunc(input));\n",
    "\n",
    "def yFunc(nodeNum:int):\n",
    "    nodeLayer, nodeIndex = getNodeLayerNIndex(nodeNum);\n",
    "    if nodeLayer == 0:\n",
    "        return xlist[nodeNum];\n",
    "    else:\n",
    "        v = vMatrix[nodeLayer][nodeIndex];\n",
    "        return round(simgFunc(v),3);\n",
    "\n",
    "def eFunc(nodeNum:int):\n",
    "    nodeLayer, nodeIndex = getNodeLayerNIndex(nodeNum);\n",
    "    if nodeLayer == len(nodeIndexMatrix)-1:\n",
    "        y = yMatrix[nodeLayer][nodeIndex]\n",
    "        d = dList[nodeIndex]\n",
    "        return d - y;\n",
    "    else:\n",
    "        raise RuntimeError(\"Can't calculate e(\"+str(nodeNum)+\")\")\n",
    "\n",
    "def sigmaFunc(nodeNum:int):\n",
    "    nodeLayer, nodeIndex = getNodeLayerNIndex(nodeNum);\n",
    "    phiPrime = simgPrimeFunc(vFunc(nodeNum))\n",
    "    if nodeLayer == len(nodeIndexMatrix)-1:\n",
    "        e = eFunc(nodeNum);\n",
    "        return round(e*phiPrime,4);\n",
    "    else:\n",
    "        forWs = wMatrix[nodeNum];\n",
    "        forSigmas = sigmaMatrix[nodeLayer+1]\n",
    "        sumSigW = sum(map(lambda x,y: x*y,forWs, forSigmas));\n",
    "        return round(phiPrime*sumSigW,4);\n",
    "\n",
    "def deltaWFunc(nodeI:int, nodeJ:int):\n",
    "    nodeILayer, nodeIIndex = getNodeLayerNIndex(nodeI);\n",
    "    nodeJLayer, nodeJIndex = getNodeLayerNIndex(nodeJ);\n",
    "    yI = yMatrix[nodeILayer][nodeIIndex];\n",
    "    if nodeJLayer == len(nodeIndexMatrix)-1:\n",
    "        e = eFunc(nodeJ);\n",
    "        phiPrime = simgPrimeFunc(vFunc(nodeJ))\n",
    "        return round(eta*e*phiPrime*yI,3);\n",
    "    else:\n",
    "        sigmaJ = sigmaMatrix[nodeJLayer][nodeJIndex];\n",
    "        return round(eta*sigmaJ*yI,3);\n",
    "\n",
    "def getNewWs(nodeNum:int):\n",
    "    nodeLayer, nodeIndex = getNodeLayerNIndex(nodeNum);\n",
    "    if nodeLayer == len(nodeIndexMatrix)-1:\n",
    "        raise RuntimeError(\"Cann't calculate delta-Ws of output node:\" + str(nodeNum))\n",
    "    forNodeIndexes = nodeIndexMatrix[nodeLayer+1];\n",
    "    oldWs = wMatrix[nodeNum]\n",
    "    deltaWs = list(map(lambda x: deltaWFunc(nodeNum, x), forNodeIndexes))\n",
    "    newWs = list(map(lambda x,y: x+y, oldWs,deltaWs))\n",
    "    return newWs;\n",
    "\n",
    "def getNewBias(nodeNum:int):\n",
    "    nodeLayer, nodeIndex = getNodeLayerNIndex(nodeNum);\n",
    "    if nodeLayer == 0: raise RuntimeError(\"No bias for node:\"+str(nodeNum))\n",
    "    sigma = sigmaMatrix[nodeLayer][nodeIndex];\n",
    "    oldBias = biasList[nodeNum];\n",
    "    newBias = oldBias+(eta*sigma);\n",
    "    return round(newBias,3);\n",
    "\n"
   ]
  },
  {
   "attachments": {},
   "cell_type": "markdown",
   "metadata": {},
   "source": [
    "# Training Ground"
   ]
  },
  {
   "attachments": {},
   "cell_type": "markdown",
   "metadata": {},
   "source": [
    "## Training Function"
   ]
  },
  {
   "cell_type": "code",
   "execution_count": 299,
   "metadata": {},
   "outputs": [],
   "source": [
    "def initAllContainer(layerNodeCount:list):\n",
    "    #Clear\n",
    "    xlist.clear();\n",
    "    dList.clear();\n",
    "    eList.clear();\n",
    "    biasList.clear();\n",
    "    wMatrix.clear();\n",
    "    vMatrix.clear()\n",
    "    yMatrix.clear();\n",
    "    sigmaMatrix.clear();\n",
    "    nodeIndexMatrix.clear();\n",
    "    #Create \n",
    "    currIndex = 0;\n",
    "    for l in layerNodeCount:\n",
    "        nodeIndexMatrix.append(list(range(currIndex,currIndex+l)))\n",
    "        yMatrix.append([0]*l)\n",
    "        vMatrix.append([0]*l)\n",
    "        sigmaMatrix.append([0]*l)\n",
    "        currIndex += l\n",
    "    for layer in range(len(nodeIndexMatrix)):\n",
    "        for node in nodeIndexMatrix[layer]:\n",
    "            if not node in nodeIndexMatrix[len(nodeIndexMatrix)-1]:\n",
    "                wMatrix.append([0]*len(nodeIndexMatrix[layer+1]))\n",
    "    for _ in range(max(max(nodeIndexMatrix))+1):\n",
    "        eList.append(0);\n",
    "        biasList.append(0);\n",
    "\n",
    "def getRandomWMatrix():\n",
    "    pass;\n",
    "\n",
    "def getRandomBias():\n",
    "    pass;\n",
    "\n",
    "def getXnDList(textsList:list, dataIndex:int):\n",
    "    pass;\n",
    "\n",
    "def updateAllY():\n",
    "    for layNum in range(len(nodeIndexMatrix)):\n",
    "        nodelist = nodeIndexMatrix[layNum]\n",
    "        vList = list(map(vFunc, nodelist));\n",
    "        vMatrix[layNum] = vList\n",
    "        yList = list(map(yFunc, nodelist));\n",
    "        yMatrix[layNum] = yList\n",
    "\n",
    "def backPropergate():\n",
    "    reverseLayNum = list(range(len(nodeIndexMatrix))).copy()\n",
    "    reverseLayNum.pop(0)\n",
    "    reverseLayNum.reverse()\n",
    "    for layNum in reverseLayNum:\n",
    "        nodelist = nodeIndexMatrix[layNum]\n",
    "        sigmaList = list(map(sigmaFunc, nodelist));\n",
    "        sigmaMatrix[layNum] = sigmaList\n",
    "    for node in range(max(max(nodeIndexMatrix))):\n",
    "        newWs = getNewWs(node);\n",
    "        wMatrix[node] = newWs;\n",
    "    startBiasIndex = max(nodeIndexMatrix[0])\n",
    "    for b in range(startBiasIndex+1,max(max(nodeIndexMatrix))+1):\n",
    "        newBias = getNewBias(b);\n",
    "        biasList[b] = newBias;\n"
   ]
  },
  {
   "attachments": {},
   "cell_type": "markdown",
   "metadata": {},
   "source": [
    "## Execution"
   ]
  },
  {
   "cell_type": "code",
   "execution_count": 300,
   "metadata": {},
   "outputs": [
    {
     "ename": "SyntaxError",
     "evalue": "expected ':' (3843488135.py, line 9)",
     "output_type": "error",
     "traceback": [
      "\u001b[1;36m  Cell \u001b[1;32mIn[300], line 9\u001b[1;36m\u001b[0m\n\u001b[1;33m    def getNNErr(dataPath:str){\u001b[0m\n\u001b[1;37m                              ^\u001b[0m\n\u001b[1;31mSyntaxError\u001b[0m\u001b[1;31m:\u001b[0m expected ':'\n"
     ]
    }
   ],
   "source": [
    "# input attribute value\n",
    "\n",
    "# calculate hidden layer one\n",
    "\n",
    "# calculate final layer\n",
    "\n",
    "# keep set of results \n",
    "\n",
    "def getResultFromY(yList:list):\n",
    "    pass;\n",
    "\n",
    "def compare2List(la:list, lb:list):\n",
    "    pass;\n",
    "    \n",
    "def getTrainNTestIndexes(rowCount:int):\n",
    "    allDataIndexes = range(0,rowCount)\n",
    "    trainDataIndexes = list(npr.sample(range(rowCount), round(rowCount*0.9)))\n",
    "    testDataIndexes = [x for x in allDataIndexes if x not in trainDataIndexes ]\n",
    "    return trainDataIndexes, testDataIndexes\n",
    "\n",
    "def getNNErr(dataPath:str, NNDimen:list, fold:int):\n",
    "    fil = open('dataPath', \"r\")\n",
    "    texts = fil.readlines()\n",
    "    rowCount = len(texts);\n",
    "\n",
    "    initAllContainer(NNDimen);\n",
    "    wMatrix = getRandomWMatrix();\n",
    "\n",
    "    \n",
    "    errCount = 0;\n",
    "    for _ in range(fold):\n",
    "        # Train\n",
    "        trainIndexes, testIndexes = getTrainNTestIndexes(rowCount);\n",
    "        for i in trainDataIndexes:\n",
    "            xlist, dList = getXnDList(texts, i);\n",
    "            updateAllY();\n",
    "            backPropergate();\n",
    "        for i in testDataIndexes:\n",
    "            xlist, dList = getXnDList(texts, i);\n",
    "            updateAllY();\n",
    "            rawY = yMatrix[len(nodeIndexMatrix)-1]\n",
    "            result = getResultFromY(rawY);\n",
    "            if (not compare2List(dList, xlist)): errCount += 1;\n",
    "\n",
    "    return errCount;"
   ]
  },
  {
   "attachments": {},
   "cell_type": "markdown",
   "metadata": {},
   "source": [
    "# Evaluation"
   ]
  },
  {
   "cell_type": "code",
   "execution_count": null,
   "metadata": {},
   "outputs": [
    {
     "name": "stdout",
     "output_type": "stream",
     "text": [
      "[[0, 0, 0], [-0.0087, -0.0065], [0.1311]]\n",
      "[[0.192, -0.306], [0.4, 0.1], [-0.508, 0.194], [-0.261], [-0.138]]\n",
      "[0, 0, 0, -0.408, 0.194, 0.218]\n"
     ]
    }
   ],
   "source": [
    "initAllContainer([3,2,1])\n",
    "wMatrix = [[0.2,-0.3],[0.4,0.1],[-0.5,0.2],[-0.3],[-0.2]]\n",
    "xlist = [1,0,1]\n",
    "dList = [1]\n",
    "biasList = [0,0,0,-0.4,0.2,0.1]\n",
    "# # print(vMatrix);\n",
    "# # print(yMatrix);\n",
    "updateAllY();\n",
    "# print(wMatrix)\n",
    "# print(biasList)\n",
    "\n",
    "backPropergate();\n",
    "print(sigmaMatrix)\n",
    "print(wMatrix)\n",
    "print(biasList)"
   ]
  }
 ],
 "metadata": {
  "kernelspec": {
   "display_name": "Python 3",
   "language": "python",
   "name": "python3"
  },
  "language_info": {
   "codemirror_mode": {
    "name": "ipython",
    "version": 3
   },
   "file_extension": ".py",
   "mimetype": "text/x-python",
   "name": "python",
   "nbconvert_exporter": "python",
   "pygments_lexer": "ipython3",
   "version": "3.10.2"
  },
  "orig_nbformat": 4,
  "vscode": {
   "interpreter": {
    "hash": "f5d4d8f8c396911fa7ea230123ef05aeb4e9f2b4fb5da5dcce73e71fee68065d"
   }
  }
 },
 "nbformat": 4,
 "nbformat_minor": 2
}
